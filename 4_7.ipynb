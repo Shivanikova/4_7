{
 "cells": [
  {
   "cell_type": "markdown",
   "id": "28796f1b",
   "metadata": {},
   "source": [
    "# Импорт библиотек"
   ]
  },
  {
   "cell_type": "code",
   "execution_count": 1,
   "id": "1802fede",
   "metadata": {},
   "outputs": [],
   "source": [
    "import pandas as pd\n",
    "from pyspark.sql import SparkSession\n",
    "from pyspark.sql.types import *\n",
    "import pyspark.sql.functions as F\n",
    "from pyspark.sql.functions import count_distinct\n",
    "from pyspark.sql.functions import count\n",
    "from pyspark.sql.functions import round\n",
    "from pyspark.sql.functions import sum"
   ]
  },
  {
   "cell_type": "markdown",
   "id": "bc934bd1",
   "metadata": {},
   "source": [
    "# 1. Преобразование файла из .xlsx в .csv формат"
   ]
  },
  {
   "cell_type": "code",
   "execution_count": 2,
   "id": "393ae374",
   "metadata": {},
   "outputs": [],
   "source": [
    "df = pd.read_excel('online_retail.xlsx')"
   ]
  },
  {
   "cell_type": "code",
   "execution_count": 3,
   "id": "809bf026",
   "metadata": {},
   "outputs": [
    {
     "name": "stdout",
     "output_type": "stream",
     "text": [
      "<class 'pandas.core.frame.DataFrame'>\n",
      "RangeIndex: 541909 entries, 0 to 541908\n",
      "Data columns (total 8 columns):\n",
      " #   Column       Non-Null Count   Dtype         \n",
      "---  ------       --------------   -----         \n",
      " 0   InvoiceNo    541909 non-null  object        \n",
      " 1   StockCode    541909 non-null  object        \n",
      " 2   Description  540455 non-null  object        \n",
      " 3   Quantity     541909 non-null  int64         \n",
      " 4   InvoiceDate  541909 non-null  datetime64[ns]\n",
      " 5   UnitPrice    541909 non-null  float64       \n",
      " 6   CustomerID   406829 non-null  float64       \n",
      " 7   Country      541909 non-null  object        \n",
      "dtypes: datetime64[ns](1), float64(2), int64(1), object(4)\n",
      "memory usage: 33.1+ MB\n"
     ]
    }
   ],
   "source": [
    "df.info()"
   ]
  },
  {
   "cell_type": "code",
   "execution_count": 4,
   "id": "af28e0b8",
   "metadata": {},
   "outputs": [
    {
     "data": {
      "text/html": [
       "<div>\n",
       "<style scoped>\n",
       "    .dataframe tbody tr th:only-of-type {\n",
       "        vertical-align: middle;\n",
       "    }\n",
       "\n",
       "    .dataframe tbody tr th {\n",
       "        vertical-align: top;\n",
       "    }\n",
       "\n",
       "    .dataframe thead th {\n",
       "        text-align: right;\n",
       "    }\n",
       "</style>\n",
       "<table border=\"1\" class=\"dataframe\">\n",
       "  <thead>\n",
       "    <tr style=\"text-align: right;\">\n",
       "      <th></th>\n",
       "      <th>InvoiceNo</th>\n",
       "      <th>StockCode</th>\n",
       "      <th>Description</th>\n",
       "      <th>Quantity</th>\n",
       "      <th>InvoiceDate</th>\n",
       "      <th>UnitPrice</th>\n",
       "      <th>CustomerID</th>\n",
       "      <th>Country</th>\n",
       "    </tr>\n",
       "  </thead>\n",
       "  <tbody>\n",
       "    <tr>\n",
       "      <th>0</th>\n",
       "      <td>536365</td>\n",
       "      <td>85123A</td>\n",
       "      <td>WHITE HANGING HEART T-LIGHT HOLDER</td>\n",
       "      <td>6</td>\n",
       "      <td>2010-12-01 08:26:00</td>\n",
       "      <td>2.55</td>\n",
       "      <td>17850.0</td>\n",
       "      <td>United Kingdom</td>\n",
       "    </tr>\n",
       "    <tr>\n",
       "      <th>1</th>\n",
       "      <td>536365</td>\n",
       "      <td>71053</td>\n",
       "      <td>WHITE METAL LANTERN</td>\n",
       "      <td>6</td>\n",
       "      <td>2010-12-01 08:26:00</td>\n",
       "      <td>3.39</td>\n",
       "      <td>17850.0</td>\n",
       "      <td>United Kingdom</td>\n",
       "    </tr>\n",
       "    <tr>\n",
       "      <th>2</th>\n",
       "      <td>536365</td>\n",
       "      <td>84406B</td>\n",
       "      <td>CREAM CUPID HEARTS COAT HANGER</td>\n",
       "      <td>8</td>\n",
       "      <td>2010-12-01 08:26:00</td>\n",
       "      <td>2.75</td>\n",
       "      <td>17850.0</td>\n",
       "      <td>United Kingdom</td>\n",
       "    </tr>\n",
       "    <tr>\n",
       "      <th>3</th>\n",
       "      <td>536365</td>\n",
       "      <td>84029G</td>\n",
       "      <td>KNITTED UNION FLAG HOT WATER BOTTLE</td>\n",
       "      <td>6</td>\n",
       "      <td>2010-12-01 08:26:00</td>\n",
       "      <td>3.39</td>\n",
       "      <td>17850.0</td>\n",
       "      <td>United Kingdom</td>\n",
       "    </tr>\n",
       "    <tr>\n",
       "      <th>4</th>\n",
       "      <td>536365</td>\n",
       "      <td>84029E</td>\n",
       "      <td>RED WOOLLY HOTTIE WHITE HEART.</td>\n",
       "      <td>6</td>\n",
       "      <td>2010-12-01 08:26:00</td>\n",
       "      <td>3.39</td>\n",
       "      <td>17850.0</td>\n",
       "      <td>United Kingdom</td>\n",
       "    </tr>\n",
       "  </tbody>\n",
       "</table>\n",
       "</div>"
      ],
      "text/plain": [
       "  InvoiceNo StockCode                          Description  Quantity  \\\n",
       "0    536365    85123A   WHITE HANGING HEART T-LIGHT HOLDER         6   \n",
       "1    536365     71053                  WHITE METAL LANTERN         6   \n",
       "2    536365    84406B       CREAM CUPID HEARTS COAT HANGER         8   \n",
       "3    536365    84029G  KNITTED UNION FLAG HOT WATER BOTTLE         6   \n",
       "4    536365    84029E       RED WOOLLY HOTTIE WHITE HEART.         6   \n",
       "\n",
       "          InvoiceDate  UnitPrice  CustomerID         Country  \n",
       "0 2010-12-01 08:26:00       2.55     17850.0  United Kingdom  \n",
       "1 2010-12-01 08:26:00       3.39     17850.0  United Kingdom  \n",
       "2 2010-12-01 08:26:00       2.75     17850.0  United Kingdom  \n",
       "3 2010-12-01 08:26:00       3.39     17850.0  United Kingdom  \n",
       "4 2010-12-01 08:26:00       3.39     17850.0  United Kingdom  "
      ]
     },
     "execution_count": 4,
     "metadata": {},
     "output_type": "execute_result"
    }
   ],
   "source": [
    "df.head()"
   ]
  },
  {
   "cell_type": "code",
   "execution_count": 5,
   "id": "8bec2ddf",
   "metadata": {},
   "outputs": [
    {
     "data": {
      "text/html": [
       "<div>\n",
       "<style scoped>\n",
       "    .dataframe tbody tr th:only-of-type {\n",
       "        vertical-align: middle;\n",
       "    }\n",
       "\n",
       "    .dataframe tbody tr th {\n",
       "        vertical-align: top;\n",
       "    }\n",
       "\n",
       "    .dataframe thead th {\n",
       "        text-align: right;\n",
       "    }\n",
       "</style>\n",
       "<table border=\"1\" class=\"dataframe\">\n",
       "  <thead>\n",
       "    <tr style=\"text-align: right;\">\n",
       "      <th></th>\n",
       "      <th>InvoiceNo</th>\n",
       "      <th>StockCode</th>\n",
       "      <th>Description</th>\n",
       "      <th>Quantity</th>\n",
       "      <th>InvoiceDate</th>\n",
       "      <th>UnitPrice</th>\n",
       "      <th>CustomerID</th>\n",
       "      <th>Country</th>\n",
       "    </tr>\n",
       "  </thead>\n",
       "  <tbody>\n",
       "    <tr>\n",
       "      <th>541904</th>\n",
       "      <td>581587</td>\n",
       "      <td>22613</td>\n",
       "      <td>PACK OF 20 SPACEBOY NAPKINS</td>\n",
       "      <td>12</td>\n",
       "      <td>2011-12-09 12:50:00</td>\n",
       "      <td>0.85</td>\n",
       "      <td>12680.0</td>\n",
       "      <td>France</td>\n",
       "    </tr>\n",
       "    <tr>\n",
       "      <th>541905</th>\n",
       "      <td>581587</td>\n",
       "      <td>22899</td>\n",
       "      <td>CHILDREN'S APRON DOLLY GIRL</td>\n",
       "      <td>6</td>\n",
       "      <td>2011-12-09 12:50:00</td>\n",
       "      <td>2.10</td>\n",
       "      <td>12680.0</td>\n",
       "      <td>France</td>\n",
       "    </tr>\n",
       "    <tr>\n",
       "      <th>541906</th>\n",
       "      <td>581587</td>\n",
       "      <td>23254</td>\n",
       "      <td>CHILDRENS CUTLERY DOLLY GIRL</td>\n",
       "      <td>4</td>\n",
       "      <td>2011-12-09 12:50:00</td>\n",
       "      <td>4.15</td>\n",
       "      <td>12680.0</td>\n",
       "      <td>France</td>\n",
       "    </tr>\n",
       "    <tr>\n",
       "      <th>541907</th>\n",
       "      <td>581587</td>\n",
       "      <td>23255</td>\n",
       "      <td>CHILDRENS CUTLERY CIRCUS PARADE</td>\n",
       "      <td>4</td>\n",
       "      <td>2011-12-09 12:50:00</td>\n",
       "      <td>4.15</td>\n",
       "      <td>12680.0</td>\n",
       "      <td>France</td>\n",
       "    </tr>\n",
       "    <tr>\n",
       "      <th>541908</th>\n",
       "      <td>581587</td>\n",
       "      <td>22138</td>\n",
       "      <td>BAKING SET 9 PIECE RETROSPOT</td>\n",
       "      <td>3</td>\n",
       "      <td>2011-12-09 12:50:00</td>\n",
       "      <td>4.95</td>\n",
       "      <td>12680.0</td>\n",
       "      <td>France</td>\n",
       "    </tr>\n",
       "  </tbody>\n",
       "</table>\n",
       "</div>"
      ],
      "text/plain": [
       "       InvoiceNo StockCode                      Description  Quantity  \\\n",
       "541904    581587     22613      PACK OF 20 SPACEBOY NAPKINS        12   \n",
       "541905    581587     22899     CHILDREN'S APRON DOLLY GIRL          6   \n",
       "541906    581587     23254    CHILDRENS CUTLERY DOLLY GIRL          4   \n",
       "541907    581587     23255  CHILDRENS CUTLERY CIRCUS PARADE         4   \n",
       "541908    581587     22138    BAKING SET 9 PIECE RETROSPOT          3   \n",
       "\n",
       "               InvoiceDate  UnitPrice  CustomerID Country  \n",
       "541904 2011-12-09 12:50:00       0.85     12680.0  France  \n",
       "541905 2011-12-09 12:50:00       2.10     12680.0  France  \n",
       "541906 2011-12-09 12:50:00       4.15     12680.0  France  \n",
       "541907 2011-12-09 12:50:00       4.15     12680.0  France  \n",
       "541908 2011-12-09 12:50:00       4.95     12680.0  France  "
      ]
     },
     "execution_count": 5,
     "metadata": {},
     "output_type": "execute_result"
    }
   ],
   "source": [
    "df.tail()"
   ]
  },
  {
   "cell_type": "code",
   "execution_count": 6,
   "id": "ec24e000",
   "metadata": {},
   "outputs": [],
   "source": [
    "df.to_csv('online_retail.csv', index = False, sep = ';')"
   ]
  },
  {
   "cell_type": "markdown",
   "id": "267385ac",
   "metadata": {},
   "source": [
    "# 2. Инициализация Spark-сессии"
   ]
  },
  {
   "cell_type": "code",
   "execution_count": 7,
   "id": "ca0b4757",
   "metadata": {},
   "outputs": [],
   "source": [
    "spark = SparkSession.builder\\\n",
    "    .master(\"local[*]\")\\\n",
    "    .appName(\"SparkFirst\")\\\n",
    "    .config(\"spark.executor.memory\", \"10g\")\\\n",
    "    .config(\"spark.executor.cores\", 5)\\\n",
    "    .config(\"spark.dynamicAllocation.enabled\", \"true\")\\\n",
    "    .config(\"spark.dynamicAllocation.maxExecutors\", 5)\\\n",
    "    .config(\"spark.shuffle.service.enabled\", \"true\")\\\n",
    ".getOrCreate()"
   ]
  },
  {
   "cell_type": "markdown",
   "id": "6acbad78",
   "metadata": {},
   "source": [
    "# 3. Создание dataframe из скачанного файла"
   ]
  },
  {
   "cell_type": "code",
   "execution_count": 8,
   "id": "29548f12",
   "metadata": {},
   "outputs": [],
   "source": [
    "schema = StructType([\n",
    "    StructField(\"InvoiceNo\", StringType(), True),\n",
    "    StructField(\"StockCode\", StringType(), True),\n",
    "    StructField(\"Description\", StringType(), True),\n",
    "    StructField(\"Quantity\", IntegerType(), True),\n",
    "    StructField(\"InvoiceDate\", TimestampNTZType(), True),\n",
    "    StructField(\"UnitPrice\", DoubleType(), True),\n",
    "    StructField(\"CustomerID\", FloatType(), True),\n",
    "    #StructField(\"CustomerID\",IntegerType(), True),\n",
    "    StructField(\"Country\", StringType(), True),\n",
    "    ])\n",
    "\n",
    "df_spark = spark.read.csv('online_retail.csv', sep = \";\", header=True, schema=schema)"
   ]
  },
  {
   "cell_type": "code",
   "execution_count": 9,
   "id": "665d9d8f",
   "metadata": {},
   "outputs": [
    {
     "name": "stdout",
     "output_type": "stream",
     "text": [
      "+---------+---------+--------------------+--------+-------------------+---------+----------+--------------+\n",
      "|InvoiceNo|StockCode|         Description|Quantity|        InvoiceDate|UnitPrice|CustomerID|       Country|\n",
      "+---------+---------+--------------------+--------+-------------------+---------+----------+--------------+\n",
      "|   536365|   85123A|WHITE HANGING HEA...|       6|2010-12-01 08:26:00|     2.55|   17850.0|United Kingdom|\n",
      "|   536365|    71053| WHITE METAL LANTERN|       6|2010-12-01 08:26:00|     3.39|   17850.0|United Kingdom|\n",
      "|   536365|   84406B|CREAM CUPID HEART...|       8|2010-12-01 08:26:00|     2.75|   17850.0|United Kingdom|\n",
      "|   536365|   84029G|KNITTED UNION FLA...|       6|2010-12-01 08:26:00|     3.39|   17850.0|United Kingdom|\n",
      "|   536365|   84029E|RED WOOLLY HOTTIE...|       6|2010-12-01 08:26:00|     3.39|   17850.0|United Kingdom|\n",
      "|   536365|    22752|SET 7 BABUSHKA NE...|       2|2010-12-01 08:26:00|     7.65|   17850.0|United Kingdom|\n",
      "|   536365|    21730|GLASS STAR FROSTE...|       6|2010-12-01 08:26:00|     4.25|   17850.0|United Kingdom|\n",
      "|   536366|    22633|HAND WARMER UNION...|       6|2010-12-01 08:28:00|     1.85|   17850.0|United Kingdom|\n",
      "|   536366|    22632|HAND WARMER RED P...|       6|2010-12-01 08:28:00|     1.85|   17850.0|United Kingdom|\n",
      "|   536367|    84879|ASSORTED COLOUR B...|      32|2010-12-01 08:34:00|     1.69|   13047.0|United Kingdom|\n",
      "+---------+---------+--------------------+--------+-------------------+---------+----------+--------------+\n",
      "only showing top 10 rows\n",
      "\n"
     ]
    }
   ],
   "source": [
    "df_spark.show(10)"
   ]
  },
  {
   "cell_type": "code",
   "execution_count": 10,
   "id": "afb44aa0",
   "metadata": {},
   "outputs": [
    {
     "data": {
      "text/plain": [
       "[('InvoiceNo', 'string'),\n",
       " ('StockCode', 'string'),\n",
       " ('Description', 'string'),\n",
       " ('Quantity', 'int'),\n",
       " ('InvoiceDate', 'timestamp_ntz'),\n",
       " ('UnitPrice', 'double'),\n",
       " ('CustomerID', 'float'),\n",
       " ('Country', 'string')]"
      ]
     },
     "execution_count": 10,
     "metadata": {},
     "output_type": "execute_result"
    }
   ],
   "source": [
    "df_spark.dtypes"
   ]
  },
  {
   "cell_type": "markdown",
   "id": "387dc1d3",
   "metadata": {},
   "source": [
    "# 4. Расчет показателей:"
   ]
  },
  {
   "cell_type": "markdown",
   "id": "399e24d3",
   "metadata": {},
   "source": [
    "   ## a. Количество строк в файле"
   ]
  },
  {
   "cell_type": "code",
   "execution_count": 11,
   "id": "0f64769d",
   "metadata": {},
   "outputs": [
    {
     "data": {
      "text/plain": [
       "541909"
      ]
     },
     "execution_count": 11,
     "metadata": {},
     "output_type": "execute_result"
    }
   ],
   "source": [
    "df_spark.count()"
   ]
  },
  {
   "cell_type": "markdown",
   "id": "7fe45484",
   "metadata": {},
   "source": [
    "## b. Количество уникальных клиентов"
   ]
  },
  {
   "cell_type": "code",
   "execution_count": 12,
   "id": "f96d6ca6",
   "metadata": {},
   "outputs": [
    {
     "name": "stdout",
     "output_type": "stream",
     "text": [
      "+--------------------------+\n",
      "|count(DISTINCT CustomerID)|\n",
      "+--------------------------+\n",
      "|                      4372|\n",
      "+--------------------------+\n",
      "\n"
     ]
    }
   ],
   "source": [
    "df_spark.select(count_distinct(\"CustomerID\")).show()"
   ]
  },
  {
   "cell_type": "markdown",
   "id": "d6e319e0",
   "metadata": {},
   "source": [
    "## с. В какой стране совершается больше покупок"
   ]
  },
  {
   "cell_type": "code",
   "execution_count": 13,
   "id": "cf4a6c19",
   "metadata": {},
   "outputs": [
    {
     "name": "stdout",
     "output_type": "stream",
     "text": [
      "+--------------+------+\n",
      "|       Country| count|\n",
      "+--------------+------+\n",
      "|United Kingdom|495478|\n",
      "+--------------+------+\n",
      "\n"
     ]
    }
   ],
   "source": [
    "df_spark.select(\"Country\").groupby(\"Country\").count().sort(\"count\", ascending=False).limit(1).show()"
   ]
  },
  {
   "cell_type": "markdown",
   "id": "58c855bf",
   "metadata": {},
   "source": [
    "## d. Дата самой ранней и самой последней покупки на платформе"
   ]
  },
  {
   "cell_type": "code",
   "execution_count": 14,
   "id": "e5c73410",
   "metadata": {},
   "outputs": [
    {
     "name": "stdout",
     "output_type": "stream",
     "text": [
      "+-------------------+\n",
      "|   min(InvoiceDate)|\n",
      "+-------------------+\n",
      "|2010-12-01 08:26:00|\n",
      "+-------------------+\n",
      "\n"
     ]
    }
   ],
   "source": [
    "# Дата самой ранней покупки\n",
    "df_spark.agg({'InvoiceDate': 'min'}).show()"
   ]
  },
  {
   "cell_type": "code",
   "execution_count": 15,
   "id": "c0f2af08",
   "metadata": {},
   "outputs": [
    {
     "name": "stdout",
     "output_type": "stream",
     "text": [
      "+-------------------+\n",
      "|   max(InvoiceDate)|\n",
      "+-------------------+\n",
      "|2011-12-09 12:50:00|\n",
      "+-------------------+\n",
      "\n"
     ]
    }
   ],
   "source": [
    "# Дата самой последней покупки\n",
    "df_spark.agg({'InvoiceDate': 'max'}).show()"
   ]
  },
  {
   "cell_type": "markdown",
   "id": "66d46485",
   "metadata": {},
   "source": [
    "# 5. RFM-анализ клиентов платформы"
   ]
  },
  {
   "cell_type": "code",
   "execution_count": 16,
   "id": "3aee461e",
   "metadata": {},
   "outputs": [
    {
     "name": "stdout",
     "output_type": "stream",
     "text": [
      "+---------+---------+--------------------+--------+-------------------+---------+----------+--------------+\n",
      "|InvoiceNo|StockCode|         Description|Quantity|        InvoiceDate|UnitPrice|CustomerID|       Country|\n",
      "+---------+---------+--------------------+--------+-------------------+---------+----------+--------------+\n",
      "|   536365|   85123A|WHITE HANGING HEA...|       6|2010-12-01 08:26:00|     2.55|   17850.0|United Kingdom|\n",
      "|   536365|    71053| WHITE METAL LANTERN|       6|2010-12-01 08:26:00|     3.39|   17850.0|United Kingdom|\n",
      "|   536365|   84406B|CREAM CUPID HEART...|       8|2010-12-01 08:26:00|     2.75|   17850.0|United Kingdom|\n",
      "|   536365|   84029G|KNITTED UNION FLA...|       6|2010-12-01 08:26:00|     3.39|   17850.0|United Kingdom|\n",
      "|   536365|   84029E|RED WOOLLY HOTTIE...|       6|2010-12-01 08:26:00|     3.39|   17850.0|United Kingdom|\n",
      "+---------+---------+--------------------+--------+-------------------+---------+----------+--------------+\n",
      "only showing top 5 rows\n",
      "\n",
      "root\n",
      " |-- InvoiceNo: string (nullable = true)\n",
      " |-- StockCode: string (nullable = true)\n",
      " |-- Description: string (nullable = true)\n",
      " |-- Quantity: integer (nullable = true)\n",
      " |-- InvoiceDate: timestamp_ntz (nullable = true)\n",
      " |-- UnitPrice: double (nullable = true)\n",
      " |-- CustomerID: float (nullable = true)\n",
      " |-- Country: string (nullable = true)\n",
      "\n"
     ]
    }
   ],
   "source": [
    "# проверка датасета\n",
    "df_spark.show(5)\n",
    "df_spark.printSchema()"
   ]
  },
  {
   "cell_type": "code",
   "execution_count": 17,
   "id": "c7fbc4b0",
   "metadata": {},
   "outputs": [],
   "source": [
    "# Проверка нулевых наличия нулевых значений\n",
    "def my_count(df_in):\n",
    "    df_in.agg(*[count(c).alias(c) for c in df_in.columns]).show()"
   ]
  },
  {
   "cell_type": "code",
   "execution_count": 18,
   "id": "7d0351ee",
   "metadata": {},
   "outputs": [
    {
     "name": "stdout",
     "output_type": "stream",
     "text": [
      "+---------+---------+-----------+--------+-----------+---------+----------+-------+\n",
      "|InvoiceNo|StockCode|Description|Quantity|InvoiceDate|UnitPrice|CustomerID|Country|\n",
      "+---------+---------+-----------+--------+-----------+---------+----------+-------+\n",
      "|   541909|   541909|     540455|  541909|     541909|   541909|    406829| 541909|\n",
      "+---------+---------+-----------+--------+-----------+---------+----------+-------+\n",
      "\n"
     ]
    }
   ],
   "source": [
    "my_count(df_spark)"
   ]
  },
  {
   "cell_type": "code",
   "execution_count": 19,
   "id": "ed90127a",
   "metadata": {},
   "outputs": [
    {
     "name": "stdout",
     "output_type": "stream",
     "text": [
      "+---------+---------+-----------+--------+-----------+---------+----------+-------+\n",
      "|InvoiceNo|StockCode|Description|Quantity|InvoiceDate|UnitPrice|CustomerID|Country|\n",
      "+---------+---------+-----------+--------+-----------+---------+----------+-------+\n",
      "|   406829|   406829|     406829|  406829|     406829|   406829|    406829| 406829|\n",
      "+---------+---------+-----------+--------+-----------+---------+----------+-------+\n",
      "\n"
     ]
    }
   ],
   "source": [
    "# Удалим записи с нулевыми значениями из набора данных\n",
    "df_spark_clean = df_spark.dropna(how='any')\n",
    "my_count(df_spark_clean)"
   ]
  },
  {
   "cell_type": "code",
   "execution_count": 20,
   "id": "27deeea4",
   "metadata": {},
   "outputs": [],
   "source": [
    "# добавление столбца \"recency\"\n",
    "recency = df_spark_clean.withColumn('recency', F.datediff(F.current_date(), df_spark_clean.InvoiceDate))"
   ]
  },
  {
   "cell_type": "code",
   "execution_count": 21,
   "id": "430b3e65",
   "metadata": {},
   "outputs": [
    {
     "name": "stdout",
     "output_type": "stream",
     "text": [
      "+---------+---------+--------------------+--------+-------------------+---------+----------+--------------+-------+\n",
      "|InvoiceNo|StockCode|         Description|Quantity|        InvoiceDate|UnitPrice|CustomerID|       Country|recency|\n",
      "+---------+---------+--------------------+--------+-------------------+---------+----------+--------------+-------+\n",
      "|   536365|   85123A|WHITE HANGING HEA...|       6|2010-12-01 08:26:00|     2.55|   17850.0|United Kingdom|   4651|\n",
      "|   536365|    71053| WHITE METAL LANTERN|       6|2010-12-01 08:26:00|     3.39|   17850.0|United Kingdom|   4651|\n",
      "|   536365|   84406B|CREAM CUPID HEART...|       8|2010-12-01 08:26:00|     2.75|   17850.0|United Kingdom|   4651|\n",
      "|   536365|   84029G|KNITTED UNION FLA...|       6|2010-12-01 08:26:00|     3.39|   17850.0|United Kingdom|   4651|\n",
      "|   536365|   84029E|RED WOOLLY HOTTIE...|       6|2010-12-01 08:26:00|     3.39|   17850.0|United Kingdom|   4651|\n",
      "+---------+---------+--------------------+--------+-------------------+---------+----------+--------------+-------+\n",
      "only showing top 5 rows\n",
      "\n"
     ]
    }
   ],
   "source": [
    "recency.show(5)"
   ]
  },
  {
   "cell_type": "code",
   "execution_count": 22,
   "id": "792815b1",
   "metadata": {},
   "outputs": [
    {
     "name": "stdout",
     "output_type": "stream",
     "text": [
      "+----------+---------+\n",
      "|CustomerID|frequency|\n",
      "+----------+---------+\n",
      "|   17323.0|        9|\n",
      "|   13999.0|       15|\n",
      "|   15512.0|        2|\n",
      "|   16156.0|       13|\n",
      "|   13883.0|        9|\n",
      "+----------+---------+\n",
      "only showing top 5 rows\n",
      "\n"
     ]
    }
   ],
   "source": [
    "# расчет показателя \"frequency\", создание нового датасета.\n",
    "frequency = df_spark_clean.groupBy('CustomerID', 'InvoiceNo').count().\\\n",
    "                           groupBy('CustomerID').agg(count(\"*\").alias(\"frequency\"))\n",
    "frequency.show(5)"
   ]
  },
  {
   "cell_type": "code",
   "execution_count": 23,
   "id": "760fbb1f",
   "metadata": {},
   "outputs": [],
   "source": [
    "# расчет значения \"TotalPrice\", создание нового столбца с данными значениями\n",
    "total_price_clean = df_spark_clean.withColumn('TotalPrice', round( df_spark.Quantity * df_spark.UnitPrice, 2 ) )"
   ]
  },
  {
   "cell_type": "code",
   "execution_count": 24,
   "id": "25101856",
   "metadata": {},
   "outputs": [
    {
     "name": "stdout",
     "output_type": "stream",
     "text": [
      "+----------+--------+\n",
      "|CustomerID|monetary|\n",
      "+----------+--------+\n",
      "|   13999.0| 3865.26|\n",
      "|   15512.0|   121.0|\n",
      "|   13305.0| 2000.86|\n",
      "|   15640.0|12433.34|\n",
      "|   13094.0| 1708.86|\n",
      "+----------+--------+\n",
      "only showing top 5 rows\n",
      "\n"
     ]
    }
   ],
   "source": [
    "# расчет показателя \"monetary\", создание нового датасета\n",
    "monetary = total_price_clean.groupBy(\"CustomerID\").agg(round(sum('TotalPrice'),2).alias('monetary'))\n",
    "monetary.show(5)"
   ]
  },
  {
   "cell_type": "code",
   "execution_count": 25,
   "id": "c95ae060",
   "metadata": {},
   "outputs": [
    {
     "name": "stdout",
     "output_type": "stream",
     "text": [
      "+----------+---------+---------+--------------------+--------+-------------------+---------+--------------+-------+---------+--------+\n",
      "|CustomerID|InvoiceNo|StockCode|         Description|Quantity|        InvoiceDate|UnitPrice|       Country|recency|frequency|monetary|\n",
      "+----------+---------+---------+--------------------+--------+-------------------+---------+--------------+-------+---------+--------+\n",
      "|   17850.0|   536365|   85123A|WHITE HANGING HEA...|       6|2010-12-01 08:26:00|     2.55|United Kingdom|   4651|       35| 5288.63|\n",
      "|   17850.0|   536365|    71053| WHITE METAL LANTERN|       6|2010-12-01 08:26:00|     3.39|United Kingdom|   4651|       35| 5288.63|\n",
      "|   17850.0|   536365|   84406B|CREAM CUPID HEART...|       8|2010-12-01 08:26:00|     2.75|United Kingdom|   4651|       35| 5288.63|\n",
      "|   17850.0|   536365|   84029G|KNITTED UNION FLA...|       6|2010-12-01 08:26:00|     3.39|United Kingdom|   4651|       35| 5288.63|\n",
      "|   17850.0|   536365|   84029E|RED WOOLLY HOTTIE...|       6|2010-12-01 08:26:00|     3.39|United Kingdom|   4651|       35| 5288.63|\n",
      "+----------+---------+---------+--------------------+--------+-------------------+---------+--------------+-------+---------+--------+\n",
      "only showing top 5 rows\n",
      "\n"
     ]
    }
   ],
   "source": [
    "# добавление новых столбцов в датасет\n",
    "total_price_new = recency.join(frequency, 'CustomerID', how = 'inner').join(monetary, 'CustomerID', how = 'inner')\n",
    "total_price_new.show(5)"
   ]
  },
  {
   "cell_type": "code",
   "execution_count": 26,
   "id": "957db62d",
   "metadata": {},
   "outputs": [
    {
     "name": "stdout",
     "output_type": "stream",
     "text": [
      "+-------+------------------+-----------------+------------------+\n",
      "|summary|           recency|        frequency|          monetary|\n",
      "+-------+------------------+-----------------+------------------+\n",
      "|  count|            406829|           406829|            406829|\n",
      "|   mean| 4429.863667535992|23.22480698278638|11067.338028559558|\n",
      "| stddev|112.85058929698144|45.49945551637789|30144.694797603723|\n",
      "|    min|              4278|                1|          -4287.63|\n",
      "|    25%|              4328|                4|           1084.34|\n",
      "|    50%|              4409|                8|           2616.32|\n",
      "|    75%|              4525|               18|            6147.4|\n",
      "|    max|              4651|              248|         279489.02|\n",
      "+-------+------------------+-----------------+------------------+\n",
      "\n"
     ]
    }
   ],
   "source": [
    "# В связи с тем, что все покупатели совершили покупку более года назад, разбиение клиентов по столбцу \"recency\" на значения:\n",
    "# \"последняя покупка в прошлом году\", \"последняя покупка на прошлой неделе\", \"последняя покупка в прошлом месяце\" \n",
    "# нецелесообразна, других критериев нет. Разделим на группы опираясь на описательную статистику.\n",
    "# Описательная статистика по новым столбцам\n",
    "total_price_new.select('recency','frequency','monetary').summary().show()"
   ]
  },
  {
   "cell_type": "code",
   "execution_count": 28,
   "id": "a5c9aaa3",
   "metadata": {},
   "outputs": [
    {
     "name": "stdout",
     "output_type": "stream",
     "text": [
      "+----------+---------+---------+--------------------+--------+-------------------+---------+--------------+-------+---------+--------+-------------+---------------+--------------+\n",
      "|CustomerID|InvoiceNo|StockCode|         Description|Quantity|        InvoiceDate|UnitPrice|       Country|recency|frequency|monetary|recency_group|frequency_group|monetary_group|\n",
      "+----------+---------+---------+--------------------+--------+-------------------+---------+--------------+-------+---------+--------+-------------+---------------+--------------+\n",
      "|   17850.0|   536365|   85123A|WHITE HANGING HEA...|       6|2010-12-01 08:26:00|     2.55|United Kingdom|   4651|       35| 5288.63|            C|              A|             B|\n",
      "|   17850.0|   536365|    71053| WHITE METAL LANTERN|       6|2010-12-01 08:26:00|     3.39|United Kingdom|   4651|       35| 5288.63|            C|              A|             B|\n",
      "|   17850.0|   536365|   84406B|CREAM CUPID HEART...|       8|2010-12-01 08:26:00|     2.75|United Kingdom|   4651|       35| 5288.63|            C|              A|             B|\n",
      "|   17850.0|   536365|   84029G|KNITTED UNION FLA...|       6|2010-12-01 08:26:00|     3.39|United Kingdom|   4651|       35| 5288.63|            C|              A|             B|\n",
      "|   17850.0|   536365|   84029E|RED WOOLLY HOTTIE...|       6|2010-12-01 08:26:00|     3.39|United Kingdom|   4651|       35| 5288.63|            C|              A|             B|\n",
      "+----------+---------+---------+--------------------+--------+-------------------+---------+--------------+-------+---------+--------+-------------+---------------+--------------+\n",
      "only showing top 5 rows\n",
      "\n"
     ]
    }
   ],
   "source": [
    "# разделим клиентов на группы. А, В, С, где А - клиенты с наибольшим приоритетом, С - с наименьшим.\n",
    "total_price_new = total_price_new.withColumn('recency_group', F.when(F.col(\"recency\")>4409, \"C\")\\\n",
    "                                            .when(F.col('recency') > 4325, \"B\")\\\n",
    "                                            .otherwise(\"A\"))\n",
    "total_price_new = total_price_new.withColumn('frequency_group', F.when(F.col(\"frequency\")< 8, \"C\")\\\n",
    "                                            .when(F.col('frequency') < 18, \"B\")\\\n",
    "                                            .otherwise(\"A\"))\n",
    "total_price_new = total_price_new.withColumn('monetary_group', F.when(F.col(\"monetary\")< 2616, \"C\")\\\n",
    "                                            .when(F.col('monetary') < 6147, \"B\")\\\n",
    "                                            .otherwise(\"A\"))\n",
    "total_price_new.show(5)"
   ]
  },
  {
   "cell_type": "code",
   "execution_count": 29,
   "id": "6af3098c",
   "metadata": {},
   "outputs": [
    {
     "name": "stdout",
     "output_type": "stream",
     "text": [
      "+----------+-------+---------+--------+-------------+---------------+--------------+------+\n",
      "|CustomerID|recency|frequency|monetary|recency_group|frequency_group|monetary_group|groups|\n",
      "+----------+-------+---------+--------+-------------+---------------+--------------+------+\n",
      "|   17323.0|   4293|        9|  908.99|            A|              B|             C|   ABC|\n",
      "|   17323.0|   4293|        9|  908.99|            A|              B|             C|   ABC|\n",
      "|   17323.0|   4293|        9|  908.99|            A|              B|             C|   ABC|\n",
      "|   17323.0|   4297|        9|  908.99|            A|              B|             C|   ABC|\n",
      "|   17323.0|   4297|        9|  908.99|            A|              B|             C|   ABC|\n",
      "+----------+-------+---------+--------+-------------+---------------+--------------+------+\n",
      "only showing top 5 rows\n",
      "\n"
     ]
    }
   ],
   "source": [
    "# проверим распределение по группам\n",
    "total_price_new = total_price_new.withColumn('groups',\n",
    "                                            F.concat(F.col('recency_group'),F.col('frequency_group'),F.col('monetary_group')))\n",
    "total_price_new.select('CustomerID','recency','frequency','monetary','recency_group','frequency_group','monetary_group', 'groups').show(5)"
   ]
  },
  {
   "cell_type": "code",
   "execution_count": 30,
   "id": "65907e12",
   "metadata": {},
   "outputs": [
    {
     "name": "stdout",
     "output_type": "stream",
     "text": [
      "+----------+\n",
      "|CustomerID|\n",
      "+----------+\n",
      "|   17315.0|\n",
      "|   16746.0|\n",
      "|   12748.0|\n",
      "|   15039.0|\n",
      "|   16729.0|\n",
      "+----------+\n",
      "only showing top 5 rows\n",
      "\n"
     ]
    }
   ],
   "source": [
    "# определим id клиентов, у которых значение по всем трем показателям \"recency\",\"frequency\",\"monetary\" соответствуют группе А.\n",
    "result = total_price_new.select(['CustomerID']).filter(total_price_new.groups == 'AAA').distinct()\n",
    "result.show(5)"
   ]
  },
  {
   "cell_type": "code",
   "execution_count": 31,
   "id": "7a23960f",
   "metadata": {},
   "outputs": [],
   "source": [
    "# cохраним результат в отдельный csv файл\n",
    "result.toPandas().to_csv('4_7_result.csv', index = False)"
   ]
  },
  {
   "cell_type": "code",
   "execution_count": null,
   "id": "0244d105",
   "metadata": {},
   "outputs": [],
   "source": []
  }
 ],
 "metadata": {
  "kernelspec": {
   "display_name": "Python 3 (ipykernel)",
   "language": "python",
   "name": "python3"
  },
  "language_info": {
   "codemirror_mode": {
    "name": "ipython",
    "version": 3
   },
   "file_extension": ".py",
   "mimetype": "text/x-python",
   "name": "python",
   "nbconvert_exporter": "python",
   "pygments_lexer": "ipython3",
   "version": "3.9.13"
  }
 },
 "nbformat": 4,
 "nbformat_minor": 5
}
